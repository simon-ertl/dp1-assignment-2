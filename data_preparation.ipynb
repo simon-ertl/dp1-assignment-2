{
 "cells": [
  {
   "cell_type": "code",
   "execution_count": 4,
   "id": "680c1a65",
   "metadata": {},
   "outputs": [],
   "source": [
    "import csv # Importing csv library for csv file handling\n",
    "\n",
    "input_path = \"./data/data_notebook-1_population2024-original.csv\" # Input path\n",
    "output_path = \"./data/data_notebook-1_population2024-grouped.csv\" # Output path\n",
    "\n",
    "with open(input_path, mode = \"r\") as csv_file:\n",
    "    # Creating empty variables\n",
    "    grouped = {} # Empty dictionairy for \n",
    "    \n",
    "    # Creating reader object\n",
    "    csv_reader = csv.reader(csv_file,\n",
    "                            delimiter = \";\")\n",
    "    \n",
    "    # Converting the header\n",
    "    original_header = next(csv_reader)\n",
    "    output_header = [original_header[2], original_header[4]]\n",
    "\n",
    "    for row in csv_reader: # Going through the rows (after header, because next())\n",
    "        \n",
    "        GKZ = row[2].split(\"-\")[1] # Saving GKZ in GKZ variable\n",
    "        \n",
    "        if GKZ not in grouped.keys(): # If GKZ is not yet in grouped-dictionairy\n",
    "            grouped[f\"{GKZ}\"] = 0 # Setting value to zero\n",
    "            grouped[f\"{GKZ}\"] += int(row[4]) # Adding population coznt\n",
    "        else: # If GKZ in dictionairy\n",
    "            grouped[f\"{GKZ}\"] += int(row[4]) # Add population count to dict value\n",
    "\n",
    "    with open(output_path, \"w\", newline=\"\") as output: # Opening output file in writing mode\n",
    "        csv_writer = csv.writer(output, delimiter=\",\") # Creating writer object\n",
    "\n",
    "        csv_writer.writerow(output_header) # Adding header\n",
    "\n",
    "        for key, value in grouped.items(): # Accessing dictionairy items\n",
    "            csv_writer.writerow([key] + [value]) # Writing new rows"
   ]
  }
 ],
 "metadata": {
  "kernelspec": {
   "display_name": "Python 3",
   "language": "python",
   "name": "python3"
  },
  "language_info": {
   "codemirror_mode": {
    "name": "ipython",
    "version": 3
   },
   "file_extension": ".py",
   "mimetype": "text/x-python",
   "name": "python",
   "nbconvert_exporter": "python",
   "pygments_lexer": "ipython3",
   "version": "3.13.9"
  }
 },
 "nbformat": 4,
 "nbformat_minor": 5
}
